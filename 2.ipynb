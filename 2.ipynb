{
  "nbformat": 4,
  "nbformat_minor": 0,
  "metadata": {
    "colab": {
      "provenance": [],
      "authorship_tag": "ABX9TyN76ZJarwDp5Qtw9wyDA3Bp",
      "include_colab_link": true
    },
    "kernelspec": {
      "name": "python3",
      "display_name": "Python 3"
    },
    "language_info": {
      "name": "python"
    }
  },
  "cells": [
    {
      "cell_type": "markdown",
      "metadata": {
        "id": "view-in-github",
        "colab_type": "text"
      },
      "source": [
        "<a href=\"https://colab.research.google.com/github/Bagakay/ap155_project_euler2/blob/subbranch1/2.ipynb\" target=\"_parent\"><img src=\"https://colab.research.google.com/assets/colab-badge.svg\" alt=\"Open In Colab\"/></a>"
      ]
    },
    {
      "cell_type": "code",
      "execution_count": 1,
      "metadata": {
        "colab": {
          "base_uri": "https://localhost:8080/"
        },
        "id": "sPKfqnDvfoCI",
        "outputId": "60a7206a-be2b-430d-f6c2-003dec973a9f"
      },
      "outputs": [
        {
          "output_type": "stream",
          "name": "stdout",
          "text": [
            "4613732\n"
          ]
        }
      ],
      "source": [
        "#thisisnumber_2\n",
        "firstterm, secondterm = 1, 2\n",
        "total = 0\n",
        "while secondterm <= 4_000_000:\n",
        "    if secondterm % 2 == 0:\n",
        "        total = total + secondterm\n",
        "    firstterm, secondterm = secondterm, firstterm + secondterm\n",
        "\n",
        "print(total)"
      ]
    },
    {
      "cell_type": "code",
      "source": [],
      "metadata": {
        "id": "74XIC7oqfpGZ"
      },
      "execution_count": null,
      "outputs": []
    }
  ]
}