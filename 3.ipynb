{
  "cells": [
    {
      "cell_type": "markdown",
      "metadata": {
        "id": "view-in-github",
        "colab_type": "text"
      },
      "source": [
        "<a href=\"https://colab.research.google.com/github/Bagakay/ap155_project_euler2/blob/main/3.ipynb\" target=\"_parent\"><img src=\"https://colab.research.google.com/assets/colab-badge.svg\" alt=\"Open In Colab\"/></a>"
      ]
    },
    {
      "cell_type": "code",
      "execution_count": null,
      "metadata": {
        "id": "t3ymvBihQqr-"
      },
      "outputs": [],
      "source": [
        "def is_number_prime(input_number):\n",
        "    divisor = 2\n",
        "    my_factors = []\n",
        "    while divisor < input_number:\n",
        "        remainder = input_number % divisor\n",
        "        if remainder == 0:\n",
        "            my_factors.append(divisor)\n",
        "        divisor = divisor + 1\n",
        "\n",
        "    if len(my_factors) == 0:\n",
        "        return True # it is indeed prime\n",
        "    else:\n",
        "        return False # factors is not empty, so not prime"
      ]
    },
    {
      "cell_type": "code",
      "execution_count": null,
      "metadata": {
        "colab": {
          "background_save": true,
          "base_uri": "https://localhost:8080/"
        },
        "id": "PkyBfkFLQrZs",
        "outputId": "b9cdfa9f-fa8c-42a6-f5e5-007a4b671f48"
      },
      "outputs": [
        {
          "name": "stdout",
          "output_type": "stream",
          "text": [
            "71\n",
            "839\n",
            "1471\n",
            "6857\n"
          ]
        }
      ],
      "source": [
        "my_num = 600851475143\n",
        "\n",
        "# starting with 2, iterate up to the number in question\n",
        "# and check which of them will have remainder 0.\n",
        "divisor = 2\n",
        "my_factors = []\n",
        "\n",
        "while divisor < my_num:\n",
        "    remainder = my_num % divisor\n",
        "    if remainder == 0:\n",
        "        my_factors.append(divisor)\n",
        "\n",
        "        if is_number_prime(divisor):\n",
        "            print(divisor)\n",
        "    divisor = divisor + 1\n",
        "\n",
        "# for factor in my_factors:\n",
        "#     if is_number_prime(factor):\n",
        "#         print(factor)"
      ]
    },
    {
      "cell_type": "code",
      "execution_count": null,
      "metadata": {
        "id": "VC6v-hXwQwzf"
      },
      "outputs": [],
      "source": []
    }
  ],
  "metadata": {
    "colab": {
      "provenance": [],
      "authorship_tag": "ABX9TyPjgNjncHk0WbD7mDe/XT68",
      "include_colab_link": true
    },
    "kernelspec": {
      "display_name": "Python 3",
      "name": "python3"
    },
    "language_info": {
      "name": "python"
    }
  },
  "nbformat": 4,
  "nbformat_minor": 0
}